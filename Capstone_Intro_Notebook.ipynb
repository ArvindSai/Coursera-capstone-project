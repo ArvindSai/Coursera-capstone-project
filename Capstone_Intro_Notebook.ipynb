{
    "nbformat_minor": 1, 
    "cells": [
        {
            "source": "## Capstone Project", 
            "cell_type": "markdown", 
            "metadata": {
                "collapsed": true
            }
        }, 
        {
            "source": "## Lets create a hidden cell", 
            "cell_type": "markdown", 
            "metadata": {}
        }, 
        {
            "execution_count": 3, 
            "cell_type": "code", 
            "metadata": {}, 
            "outputs": [], 
            "source": "# The code was removed by Watson Studio for sharing."
        }, 
        {
            "source": "# Communicate with database through groups and endpoints\n# Base URI : https://api.foursquare.com", 
            "cell_type": "markdown", 
            "metadata": {}
        }, 
        {
            "source": "# https://api.foursquare.com/v2/", 
            "cell_type": "markdown", 
            "metadata": {}
        }, 
        {
            "source": "# Searching for a coffee shop", 
            "cell_type": "markdown", 
            "metadata": {}
        }, 
        {
            "source": "Use the 'venues' group and 'search' endpoint\n\nURL: https://api.foursquare.com/v2/venues/search?client_id=******&client_secret=******&v=20180602&ll=40.73,-74.01&query=coffee", 
            "cell_type": "markdown", 
            "metadata": {}
        }, 
        {
            "source": "For each venue, we get the name, uniqueid, location and category", 
            "cell_type": "markdown", 
            "metadata": {}
        }, 
        {
            "source": "# Getting Details of a 'kaffe 1668'\n\nURL: https://api.foursquare.com/v2/venues/unique_id_kaffe1668?client_id=*&client_secret=*&v=20180602", 
            "cell_type": "markdown", 
            "metadata": {}
        }, 
        {
            "source": "# Getting 'tips' about 'kaffe 1668'\n\nURL: https://api.foursquare.com/v2/venues/unique_id_kaffe1668/tips?client_id=*&client_secret=*&v=20180602", 
            "cell_type": "markdown", 
            "metadata": {}
        }, 
        {
            "source": "# Learn about a specific user (Jessica Placencia)\n\nJust like in 'venue' search we used '/venues' group. Here we use '/users' group\n\nURL: https://api.foursquare.com/v2/users/unique_id_jessica_placencia?client_id=*&client_secret=*&v=20180602", 
            "cell_type": "markdown", 
            "metadata": {}
        }, 
        {
            "source": "# Explore around a locality/venue\n\nURL: https://api.foursquare.com/v2/venues/explore?client_id=*&client_secret=*&v=20180602&ll=40.73,-74.01", 
            "cell_type": "markdown", 
            "metadata": {}
        }, 
        {
            "source": "# Exploring Trending venues\n\nUse the 'trending' endpoint with 'venues' group. In the previous case, 'explore' endpoint was used.\n\nURL: https://api.foursquare.com/v2/venues/trending?client_id=*&client_secret=*&v=20180602&ll=40.73,-74.01", 
            "cell_type": "markdown", 
            "metadata": {}
        }, 
        {
            "source": "# Import necessary python libraries", 
            "cell_type": "markdown", 
            "metadata": {}
        }, 
        {
            "execution_count": 8, 
            "cell_type": "code", 
            "metadata": {}, 
            "outputs": [
                {
                    "output_type": "stream", 
                    "name": "stdout", 
                    "text": "Fetching package metadata .............\nSolving package specifications: .\n\nPackage plan for installation in environment /opt/conda/envs/DSX-Python35:\n\nThe following NEW packages will be INSTALLED:\n\n    altair:  2.1.0-py_0 conda-forge\n    branca:  0.3.0-py_0 conda-forge\n    folium:  0.5.0-py_0 conda-forge\n    vincent: 0.4.4-py_1 conda-forge\n\nbranca-0.3.0-p 100% |################################| Time: 0:00:00 327.15 kB/s\nvincent-0.4.4- 100% |################################| Time: 0:00:00 376.74 kB/s\naltair-2.1.0-p 100% |################################| Time: 0:00:00 480.71 kB/s\nfolium-0.5.0-p 100% |################################| Time: 0:00:00 621.22 kB/s\nFolium imported\nImported above libraries\n"
                }
            ], 
            "source": "from geopy.geocoders import Nominatim  # module to convert an address into latitude and longitude values\nimport requests # library to handle requests\nimport pandas as pd # data cleaning, data manipulation and data analysis\nimport numpy as np # library to handle data in a vectorized manner\nimport random # library for random number generation\n\n# libraries for displaying images\nfrom IPython.display import Image\nfrom IPython.core.display import HTML\n\n# transform json file into a pandas dataframe\nfrom pandas.io.json import json_normalize\n\n# plotting library\n!conda install -c conda-forge folium=0.5.0 --yes\nimport folium\n\n\nprint('Folium imported')\nprint('Imported above libraries')"
        }, 
        {
            "source": "# Define FourSquare Credentials and Version", 
            "cell_type": "markdown", 
            "metadata": {}
        }, 
        {
            "execution_count": 9, 
            "cell_type": "code", 
            "metadata": {}, 
            "outputs": [
                {
                    "output_type": "stream", 
                    "name": "stdout", 
                    "text": "Your credentials\nClient_Id:  CV0POSITNMGAAJ0BFGZIJ1N3WSRY3OWDCN0FU3QKQV1OYECQ\nClient_Secret:  NU0XIYG4PI1NDPI24T5EWQCEHTVUZF4223UEBWQGJWUI42QP\n"
                }
            ], 
            "source": "CLIENT_ID = 'CV0POSITNMGAAJ0BFGZIJ1N3WSRY3OWDCN0FU3QKQV1OYECQ'\nCLIENT_SECRET = 'NU0XIYG4PI1NDPI24T5EWQCEHTVUZF4223UEBWQGJWUI42QP'\nVERSION = '20180604'\nLIMIT = 30\nprint('Your credentials')\nprint('Client_Id: ',CLIENT_ID)\nprint('Client_Secret: ',CLIENT_SECRET)"
        }, 
        {
            "source": "# let's assume we are staying in conrad hotel. convert conrad hotel's address into latitude and longitude", 
            "cell_type": "markdown", 
            "metadata": {}
        }, 
        {
            "execution_count": 29, 
            "cell_type": "code", 
            "metadata": {}, 
            "outputs": [
                {
                    "output_type": "stream", 
                    "name": "stdout", 
                    "text": "40.7149555 -74.0153365\n"
                }
            ], 
            "source": "address = '102 North End Ave, New York, NY'\n#address = 'Vasant Kunj'\n\ngeolocator = Nominatim()\nlocation = geolocator.geocode(address)\nlatitude = location.latitude\nlongitude = location.longitude\nprint(latitude, longitude)"
        }, 
        {
            "source": "# Search for a specific venue category", 
            "cell_type": "markdown", 
            "metadata": {}
        }, 
        {
            "execution_count": 30, 
            "cell_type": "code", 
            "metadata": {}, 
            "outputs": [
                {
                    "output_type": "stream", 
                    "name": "stdout", 
                    "text": "Italian....OK\n"
                }
            ], 
            "source": "search_query = 'Italian'\nradius = 500\nprint(search_query + '....OK')"
        }, 
        {
            "execution_count": 31, 
            "cell_type": "code", 
            "metadata": {}, 
            "outputs": [
                {
                    "execution_count": 31, 
                    "metadata": {}, 
                    "data": {
                        "text/plain": "'https://api.foursquare.com/v2/venues/search?client_id=CV0POSITNMGAAJ0BFGZIJ1N3WSRY3OWDCN0FU3QKQV1OYECQ&client_secret=NU0XIYG4PI1NDPI24T5EWQCEHTVUZF4223UEBWQGJWUI42QP&ll=40.7149555,-74.0153365&v=20180604&query=Italian&radius=500&limit=30'"
                    }, 
                    "output_type": "execute_result"
                }
            ], 
            "source": "url = 'https://api.foursquare.com/v2/venues/search?client_id={}&client_secret={}&ll={},{}&v={}&query={}&radius={}&limit={}'.format(CLIENT_ID,CLIENT_SECRET,latitude,longitude,VERSION,search_query,radius,LIMIT)\nurl"
        }, 
        {
            "execution_count": 32, 
            "cell_type": "code", 
            "metadata": {}, 
            "outputs": [
                {
                    "execution_count": 32, 
                    "metadata": {}, 
                    "data": {
                        "text/plain": "{'meta': {'code': 200, 'requestId': '5b65c6bc9fb6b736605b26ff'},\n 'response': {'venues': [{'categories': [{'icon': {'prefix': 'https://ss3.4sqi.net/img/categories_v2/food/pizza_',\n       'suffix': '.png'},\n      'id': '4bf58dd8d48988d1ca941735',\n      'name': 'Pizza Place',\n      'pluralName': 'Pizza Places',\n      'primary': True,\n      'shortName': 'Pizza'}],\n    'delivery': {'id': '294544',\n     'provider': {'icon': {'name': '/delivery_provider_seamless_20180129.png',\n       'prefix': 'https://igx.4sqi.net/img/general/cap/',\n       'sizes': [40, 50]},\n      'name': 'seamless'},\n     'url': 'https://www.seamless.com/menu/harrys-italian-pizza-bar-225-murray-st-new-york/294544?affiliate=1131&utm_source=foursquare-affiliate-network&utm_medium=affiliate&utm_campaign=1131&utm_content=294544'},\n    'hasPerk': False,\n    'id': '4fa862b3e4b0ebff2f749f06',\n    'location': {'address': '225 Murray St',\n     'cc': 'US',\n     'city': 'New York',\n     'country': 'United States',\n     'distance': 58,\n     'formattedAddress': ['225 Murray St',\n      'New York, NY 10282',\n      'United States'],\n     'labeledLatLngs': [{'label': 'display',\n       'lat': 40.71521779064671,\n       'lng': -74.01473940209351}],\n     'lat': 40.71521779064671,\n     'lng': -74.01473940209351,\n     'postalCode': '10282',\n     'state': 'NY'},\n    'name': \"Harry's Italian Pizza Bar\",\n    'referralId': 'v-1533396668'},\n   {'categories': [{'icon': {'prefix': 'https://ss3.4sqi.net/img/categories_v2/food/default_',\n       'suffix': '.png'},\n      'id': '4d4b7105d754a06374d81259',\n      'name': 'Food',\n      'pluralName': 'Food',\n      'primary': True,\n      'shortName': 'Food'}],\n    'hasPerk': False,\n    'id': '4f3232e219836c91c7bfde94',\n    'location': {'address': '63 W Broadway',\n     'cc': 'US',\n     'city': 'New York',\n     'country': 'United States',\n     'distance': 446,\n     'formattedAddress': ['63 W Broadway',\n      'New York, NY 10007',\n      'United States'],\n     'labeledLatLngs': [{'label': 'display',\n       'lat': 40.71446,\n       'lng': -74.010086}],\n     'lat': 40.71446,\n     'lng': -74.010086,\n     'postalCode': '10007',\n     'state': 'NY'},\n    'name': 'Conca Cucina Italian Restaurant',\n    'referralId': 'v-1533396668'},\n   {'categories': [{'icon': {'prefix': 'https://ss3.4sqi.net/img/categories_v2/food/italian_',\n       'suffix': '.png'},\n      'id': '4bf58dd8d48988d110941735',\n      'name': 'Italian Restaurant',\n      'pluralName': 'Italian Restaurants',\n      'primary': True,\n      'shortName': 'Italian'}],\n    'hasPerk': False,\n    'id': '3fd66200f964a520f4e41ee3',\n    'location': {'address': '124 Chambers St',\n     'cc': 'US',\n     'city': 'New York',\n     'country': 'United States',\n     'crossStreet': 'btwn Church St & W Broadway',\n     'distance': 549,\n     'formattedAddress': ['124 Chambers St (btwn Church St & W Broadway)',\n      'New York, NY 10007',\n      'United States'],\n     'labeledLatLngs': [{'label': 'display',\n       'lat': 40.71533713859952,\n       'lng': -74.00884766217825}],\n     'lat': 40.71533713859952,\n     'lng': -74.00884766217825,\n     'postalCode': '10007',\n     'state': 'NY'},\n    'name': 'Ecco',\n    'referralId': 'v-1533396668'}]}}"
                    }, 
                    "output_type": "execute_result"
                }
            ], 
            "source": "results = requests.get(url).json()\nresults"
        }, 
        {
            "execution_count": 33, 
            "cell_type": "code", 
            "metadata": {}, 
            "outputs": [
                {
                    "execution_count": 33, 
                    "metadata": {}, 
                    "data": {
                        "text/html": "<div>\n<style scoped>\n    .dataframe tbody tr th:only-of-type {\n        vertical-align: middle;\n    }\n\n    .dataframe tbody tr th {\n        vertical-align: top;\n    }\n\n    .dataframe thead th {\n        text-align: right;\n    }\n</style>\n<table border=\"1\" class=\"dataframe\">\n  <thead>\n    <tr style=\"text-align: right;\">\n      <th></th>\n      <th>categories</th>\n      <th>delivery.id</th>\n      <th>delivery.provider.icon.name</th>\n      <th>delivery.provider.icon.prefix</th>\n      <th>delivery.provider.icon.sizes</th>\n      <th>delivery.provider.name</th>\n      <th>delivery.url</th>\n      <th>hasPerk</th>\n      <th>id</th>\n      <th>location.address</th>\n      <th>...</th>\n      <th>location.crossStreet</th>\n      <th>location.distance</th>\n      <th>location.formattedAddress</th>\n      <th>location.labeledLatLngs</th>\n      <th>location.lat</th>\n      <th>location.lng</th>\n      <th>location.postalCode</th>\n      <th>location.state</th>\n      <th>name</th>\n      <th>referralId</th>\n    </tr>\n  </thead>\n  <tbody>\n    <tr>\n      <th>0</th>\n      <td>[{'id': '4bf58dd8d48988d1ca941735', 'shortName...</td>\n      <td>294544</td>\n      <td>/delivery_provider_seamless_20180129.png</td>\n      <td>https://igx.4sqi.net/img/general/cap/</td>\n      <td>[40, 50]</td>\n      <td>seamless</td>\n      <td>https://www.seamless.com/menu/harrys-italian-p...</td>\n      <td>False</td>\n      <td>4fa862b3e4b0ebff2f749f06</td>\n      <td>225 Murray St</td>\n      <td>...</td>\n      <td>NaN</td>\n      <td>58</td>\n      <td>[225 Murray St, New York, NY 10282, United Sta...</td>\n      <td>[{'lat': 40.71521779064671, 'label': 'display'...</td>\n      <td>40.715218</td>\n      <td>-74.014739</td>\n      <td>10282</td>\n      <td>NY</td>\n      <td>Harry's Italian Pizza Bar</td>\n      <td>v-1533396668</td>\n    </tr>\n    <tr>\n      <th>1</th>\n      <td>[{'id': '4d4b7105d754a06374d81259', 'shortName...</td>\n      <td>NaN</td>\n      <td>NaN</td>\n      <td>NaN</td>\n      <td>NaN</td>\n      <td>NaN</td>\n      <td>NaN</td>\n      <td>False</td>\n      <td>4f3232e219836c91c7bfde94</td>\n      <td>63 W Broadway</td>\n      <td>...</td>\n      <td>NaN</td>\n      <td>446</td>\n      <td>[63 W Broadway, New York, NY 10007, United Sta...</td>\n      <td>[{'lat': 40.71446, 'label': 'display', 'lng': ...</td>\n      <td>40.714460</td>\n      <td>-74.010086</td>\n      <td>10007</td>\n      <td>NY</td>\n      <td>Conca Cucina Italian Restaurant</td>\n      <td>v-1533396668</td>\n    </tr>\n    <tr>\n      <th>2</th>\n      <td>[{'id': '4bf58dd8d48988d110941735', 'shortName...</td>\n      <td>NaN</td>\n      <td>NaN</td>\n      <td>NaN</td>\n      <td>NaN</td>\n      <td>NaN</td>\n      <td>NaN</td>\n      <td>False</td>\n      <td>3fd66200f964a520f4e41ee3</td>\n      <td>124 Chambers St</td>\n      <td>...</td>\n      <td>btwn Church St &amp; W Broadway</td>\n      <td>549</td>\n      <td>[124 Chambers St (btwn Church St &amp; W Broadway)...</td>\n      <td>[{'lat': 40.71533713859952, 'label': 'display'...</td>\n      <td>40.715337</td>\n      <td>-74.008848</td>\n      <td>10007</td>\n      <td>NY</td>\n      <td>Ecco</td>\n      <td>v-1533396668</td>\n    </tr>\n  </tbody>\n</table>\n<p>3 rows \u00d7 23 columns</p>\n</div>", 
                        "text/plain": "                                          categories delivery.id  \\\n0  [{'id': '4bf58dd8d48988d1ca941735', 'shortName...      294544   \n1  [{'id': '4d4b7105d754a06374d81259', 'shortName...         NaN   \n2  [{'id': '4bf58dd8d48988d110941735', 'shortName...         NaN   \n\n                delivery.provider.icon.name  \\\n0  /delivery_provider_seamless_20180129.png   \n1                                       NaN   \n2                                       NaN   \n\n           delivery.provider.icon.prefix delivery.provider.icon.sizes  \\\n0  https://igx.4sqi.net/img/general/cap/                     [40, 50]   \n1                                    NaN                          NaN   \n2                                    NaN                          NaN   \n\n  delivery.provider.name                                       delivery.url  \\\n0               seamless  https://www.seamless.com/menu/harrys-italian-p...   \n1                    NaN                                                NaN   \n2                    NaN                                                NaN   \n\n   hasPerk                        id location.address      ...       \\\n0    False  4fa862b3e4b0ebff2f749f06    225 Murray St      ...        \n1    False  4f3232e219836c91c7bfde94    63 W Broadway      ...        \n2    False  3fd66200f964a520f4e41ee3  124 Chambers St      ...        \n\n          location.crossStreet location.distance  \\\n0                          NaN                58   \n1                          NaN               446   \n2  btwn Church St & W Broadway               549   \n\n                           location.formattedAddress  \\\n0  [225 Murray St, New York, NY 10282, United Sta...   \n1  [63 W Broadway, New York, NY 10007, United Sta...   \n2  [124 Chambers St (btwn Church St & W Broadway)...   \n\n                             location.labeledLatLngs  location.lat  \\\n0  [{'lat': 40.71521779064671, 'label': 'display'...     40.715218   \n1  [{'lat': 40.71446, 'label': 'display', 'lng': ...     40.714460   \n2  [{'lat': 40.71533713859952, 'label': 'display'...     40.715337   \n\n  location.lng location.postalCode  location.state  \\\n0   -74.014739               10282              NY   \n1   -74.010086               10007              NY   \n2   -74.008848               10007              NY   \n\n                              name    referralId  \n0        Harry's Italian Pizza Bar  v-1533396668  \n1  Conca Cucina Italian Restaurant  v-1533396668  \n2                             Ecco  v-1533396668  \n\n[3 rows x 23 columns]"
                    }, 
                    "output_type": "execute_result"
                }
            ], 
            "source": "# get relevant part of json and transform into Pandas dataframe\nvenues = results['response']['venues']\n\ndataframe = json_normalize(venues)\ndataframe.head()"
        }, 
        {
            "source": "# Define information of interest and filter the dataframe", 
            "cell_type": "markdown", 
            "metadata": {}
        }, 
        {
            "execution_count": 36, 
            "cell_type": "code", 
            "metadata": {}, 
            "outputs": [
                {
                    "execution_count": 36, 
                    "metadata": {}, 
                    "data": {
                        "text/html": "<div>\n<style scoped>\n    .dataframe tbody tr th:only-of-type {\n        vertical-align: middle;\n    }\n\n    .dataframe tbody tr th {\n        vertical-align: top;\n    }\n\n    .dataframe thead th {\n        text-align: right;\n    }\n</style>\n<table border=\"1\" class=\"dataframe\">\n  <thead>\n    <tr style=\"text-align: right;\">\n      <th></th>\n      <th>name</th>\n      <th>categories</th>\n      <th>address</th>\n      <th>cc</th>\n      <th>city</th>\n      <th>country</th>\n      <th>crossStreet</th>\n      <th>distance</th>\n      <th>formattedAddress</th>\n      <th>labeledLatLngs</th>\n      <th>lat</th>\n      <th>lng</th>\n      <th>postalCode</th>\n      <th>state</th>\n      <th>id</th>\n    </tr>\n  </thead>\n  <tbody>\n    <tr>\n      <th>0</th>\n      <td>Harry's Italian Pizza Bar</td>\n      <td>Pizza Place</td>\n      <td>225 Murray St</td>\n      <td>US</td>\n      <td>New York</td>\n      <td>United States</td>\n      <td>NaN</td>\n      <td>58</td>\n      <td>[225 Murray St, New York, NY 10282, United Sta...</td>\n      <td>[{'lat': 40.71521779064671, 'label': 'display'...</td>\n      <td>40.715218</td>\n      <td>-74.014739</td>\n      <td>10282</td>\n      <td>NY</td>\n      <td>4fa862b3e4b0ebff2f749f06</td>\n    </tr>\n    <tr>\n      <th>1</th>\n      <td>Conca Cucina Italian Restaurant</td>\n      <td>Food</td>\n      <td>63 W Broadway</td>\n      <td>US</td>\n      <td>New York</td>\n      <td>United States</td>\n      <td>NaN</td>\n      <td>446</td>\n      <td>[63 W Broadway, New York, NY 10007, United Sta...</td>\n      <td>[{'lat': 40.71446, 'label': 'display', 'lng': ...</td>\n      <td>40.714460</td>\n      <td>-74.010086</td>\n      <td>10007</td>\n      <td>NY</td>\n      <td>4f3232e219836c91c7bfde94</td>\n    </tr>\n    <tr>\n      <th>2</th>\n      <td>Ecco</td>\n      <td>Italian Restaurant</td>\n      <td>124 Chambers St</td>\n      <td>US</td>\n      <td>New York</td>\n      <td>United States</td>\n      <td>btwn Church St &amp; W Broadway</td>\n      <td>549</td>\n      <td>[124 Chambers St (btwn Church St &amp; W Broadway)...</td>\n      <td>[{'lat': 40.71533713859952, 'label': 'display'...</td>\n      <td>40.715337</td>\n      <td>-74.008848</td>\n      <td>10007</td>\n      <td>NY</td>\n      <td>3fd66200f964a520f4e41ee3</td>\n    </tr>\n  </tbody>\n</table>\n</div>", 
                        "text/plain": "                              name          categories          address  cc  \\\n0        Harry's Italian Pizza Bar         Pizza Place    225 Murray St  US   \n1  Conca Cucina Italian Restaurant                Food    63 W Broadway  US   \n2                             Ecco  Italian Restaurant  124 Chambers St  US   \n\n       city        country                  crossStreet  distance  \\\n0  New York  United States                          NaN        58   \n1  New York  United States                          NaN       446   \n2  New York  United States  btwn Church St & W Broadway       549   \n\n                                    formattedAddress  \\\n0  [225 Murray St, New York, NY 10282, United Sta...   \n1  [63 W Broadway, New York, NY 10007, United Sta...   \n2  [124 Chambers St (btwn Church St & W Broadway)...   \n\n                                      labeledLatLngs        lat        lng  \\\n0  [{'lat': 40.71521779064671, 'label': 'display'...  40.715218 -74.014739   \n1  [{'lat': 40.71446, 'label': 'display', 'lng': ...  40.714460 -74.010086   \n2  [{'lat': 40.71533713859952, 'label': 'display'...  40.715337 -74.008848   \n\n  postalCode state                        id  \n0      10282    NY  4fa862b3e4b0ebff2f749f06  \n1      10007    NY  4f3232e219836c91c7bfde94  \n2      10007    NY  3fd66200f964a520f4e41ee3  "
                    }, 
                    "output_type": "execute_result"
                }
            ], 
            "source": "filtered_columns = ['name','categories'] + [col for col in dataframe.columns if col.startswith('location.')] + ['id']\ndataframe_filtered = dataframe.loc[:,filtered_columns]\n\n# function to extract category of a venue\ndef get_category_type(row):\n    try:\n        category_list = row['categories']\n    except:\n        category_list = row['venue.categories']\n    \n    if len(category_list) == 0:\n        return None\n    else:\n        return category_list[0]['name']\n\n# filter the category for each row\ndataframe_filtered['categories'] = dataframe_filtered.apply(get_category_type,axis=1)\n\n# clean column names by keeping only last term\ndataframe_filtered.columns = [column.split('.')[-1] for column in dataframe_filtered.columns]\ndataframe_filtered\n"
        }, 
        {
            "source": "# Let's visualize the Italian restaurants that are nearby", 
            "cell_type": "markdown", 
            "metadata": {}
        }, 
        {
            "execution_count": 37, 
            "cell_type": "code", 
            "metadata": {}, 
            "outputs": [
                {
                    "execution_count": 37, 
                    "metadata": {}, 
                    "data": {
                        "text/plain": "0          Harry's Italian Pizza Bar\n1    Conca Cucina Italian Restaurant\n2                               Ecco\nName: name, dtype: object"
                    }, 
                    "output_type": "execute_result"
                }
            ], 
            "source": "dataframe_filtered.name"
        }, 
        {
            "execution_count": 38, 
            "cell_type": "code", 
            "metadata": {}, 
            "outputs": [
                {
                    "execution_count": 38, 
                    "metadata": {}, 
                    "data": {
                        "text/html": "<div style=\"width:100%;\"><div style=\"position:relative;width:100%;height:0;padding-bottom:60%;\"><iframe src=\"data:text/html;charset=utf-8;base64,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\" style=\"position:absolute;width:100%;height:100%;left:0;top:0;border:none !important;\" allowfullscreen webkitallowfullscreen mozallowfullscreen></iframe></div></div>", 
                        "text/plain": "<folium.folium.Map at 0x7fe1f03cc5f8>"
                    }, 
                    "output_type": "execute_result"
                }
            ], 
            "source": "venues_map = folium.Map(location=[latitude, longitude], zoom_start=13) # generate map centred around the Conrad Hotel\n\n# add a red circle marker to represent the Conrad Hotel\nfolium.features.CircleMarker(\n    [latitude, longitude],\n    radius=10,\n    color='red',\n    popup='Conrad Hotel',\n    fill = True,\n    fill_color = 'red',\n    fill_opacity = 0.6\n).add_to(venues_map)\n\n# add the Italian restaurants as blue circle markers\nfor lat, lng, label in zip(dataframe_filtered.lat, dataframe_filtered.lng, dataframe_filtered.categories):\n    folium.features.CircleMarker(\n        [lat, lng],\n        radius=5,\n        color='blue',\n        popup=label,\n        fill = True,\n        fill_color='blue',\n        fill_opacity=0.6\n    ).add_to(venues_map)\n\n# display map\nvenues_map"
        }, 
        {
            "execution_count": null, 
            "cell_type": "code", 
            "metadata": {}, 
            "outputs": [], 
            "source": ""
        }
    ], 
    "metadata": {
        "kernelspec": {
            "display_name": "Python 3.5", 
            "name": "python3", 
            "language": "python"
        }, 
        "language_info": {
            "mimetype": "text/x-python", 
            "nbconvert_exporter": "python", 
            "version": "3.5.5", 
            "name": "python", 
            "file_extension": ".py", 
            "pygments_lexer": "ipython3", 
            "codemirror_mode": {
                "version": 3, 
                "name": "ipython"
            }
        }
    }, 
    "nbformat": 4
}