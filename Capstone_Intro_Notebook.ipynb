{
    "nbformat_minor": 1, 
    "cells": [
        {
            "source": "## Capstone Project", 
            "cell_type": "markdown", 
            "metadata": {
                "collapsed": true
            }
        }, 
        {
            "execution_count": 2, 
            "cell_type": "code", 
            "metadata": {}, 
            "outputs": [
                {
                    "execution_count": 2, 
                    "metadata": {}, 
                    "data": {
                        "text/plain": "3"
                    }, 
                    "output_type": "execute_result"
                }
            ], 
            "source": "1 + 2"
        }, 
        {
            "source": "## Lets create a hidden cell", 
            "cell_type": "markdown", 
            "metadata": {}
        }, 
        {
            "execution_count": 3, 
            "cell_type": "code", 
            "metadata": {}, 
            "outputs": [], 
            "source": "# The code was removed by Watson Studio for sharing."
        }, 
        {
            "execution_count": 4, 
            "cell_type": "code", 
            "metadata": {}, 
            "outputs": [], 
            "source": "#\nusername='arvindsai'\npassword='12345'"
        }, 
        {
            "execution_count": 1, 
            "cell_type": "code", 
            "metadata": {}, 
            "outputs": [
                {
                    "execution_count": 1, 
                    "metadata": {}, 
                    "data": {
                        "text/plain": "4"
                    }, 
                    "output_type": "execute_result"
                }
            ], 
            "source": "1 + 3"
        }, 
        {
            "source": "# Communicate with database through groups and endpoints\n# Base URI : https://api.foursquare.com", 
            "cell_type": "markdown", 
            "metadata": {}
        }, 
        {
            "source": "# https://api.foursquare.com/v2/", 
            "cell_type": "markdown", 
            "metadata": {}
        }, 
        {
            "execution_count": null, 
            "cell_type": "code", 
            "metadata": {}, 
            "outputs": [], 
            "source": ""
        }, 
        {
            "execution_count": null, 
            "cell_type": "code", 
            "metadata": {}, 
            "outputs": [], 
            "source": ""
        }, 
        {
            "source": "# Searching for a coffee shop", 
            "cell_type": "markdown", 
            "metadata": {}
        }, 
        {
            "source": "Use the 'venues' group and 'search' endpoint\n\nURL: https://api.foursquare.com/v2/venues/search?client_id=******&client_secret=******&v=20180602&ll=40.73,-74.01&query=coffee", 
            "cell_type": "markdown", 
            "metadata": {}
        }, 
        {
            "source": "For each venue, we get the name, uniqueid, location and category", 
            "cell_type": "markdown", 
            "metadata": {}
        }, 
        {
            "source": "# Getting Details of a 'kaffe 1668'\n\nURL: https://api.foursquare.com/v2/venues/unique_id_kaffe1668?client_id=*&client_secret=*&v=20180602", 
            "cell_type": "markdown", 
            "metadata": {}
        }, 
        {
            "source": "# Getting 'tips' about 'kaffe 1668'\n\nURL: https://api.foursquare.com/v2/venues/unique_id_kaffe1668/tips?client_id=*&client_secret=*&v=20180602", 
            "cell_type": "markdown", 
            "metadata": {}
        }, 
        {
            "source": "# Learn about a specific user (Jessica Placencia)\n\nJust like in 'venue' search we used '/venues' group. Here we use '/users' group\n\nURL: https://api.foursquare.com/v2/users/unique_id_jessica_placencia?client_id=*&client_secret=*&", 
            "cell_type": "markdown", 
            "metadata": {}
        }
    ], 
    "metadata": {
        "kernelspec": {
            "display_name": "Python 3.5", 
            "name": "python3", 
            "language": "python"
        }, 
        "language_info": {
            "mimetype": "text/x-python", 
            "nbconvert_exporter": "python", 
            "version": "3.5.5", 
            "name": "python", 
            "file_extension": ".py", 
            "pygments_lexer": "ipython3", 
            "codemirror_mode": {
                "version": 3, 
                "name": "ipython"
            }
        }
    }, 
    "nbformat": 4
}